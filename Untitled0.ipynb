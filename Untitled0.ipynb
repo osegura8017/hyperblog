{
  "nbformat": 4,
  "nbformat_minor": 0,
  "metadata": {
    "colab": {
      "provenance": [],
      "authorship_tag": "ABX9TyPrB3HxIV0IUxTBJDKWuSjo",
      "include_colab_link": true
    },
    "kernelspec": {
      "name": "python3",
      "display_name": "Python 3"
    },
    "language_info": {
      "name": "python"
    }
  },
  "cells": [
    {
      "cell_type": "markdown",
      "metadata": {
        "id": "view-in-github",
        "colab_type": "text"
      },
      "source": [
        "<a href=\"https://colab.research.google.com/github/osegura8017/hyperblog/blob/master/Untitled0.ipynb\" target=\"_parent\"><img src=\"https://colab.research.google.com/assets/colab-badge.svg\" alt=\"Open In Colab\"/></a>"
      ]
    },
    {
      "cell_type": "code",
      "execution_count": 5,
      "metadata": {
        "colab": {
          "base_uri": "https://localhost:8080/"
        },
        "id": "-CPk60mJNJ3h",
        "outputId": "5edef8fa-4952-4bcb-ce1a-974bbc89b0e4"
      },
      "outputs": [
        {
          "output_type": "stream",
          "name": "stdout",
          "text": [
            "hello\n",
            "fun\n",
            "Zip\n",
            "hello\n",
            "fun\n"
          ]
        }
      ],
      "source": [
        "def thing():\n",
        "    print('hello')\n",
        "    print('fun')\n",
        "\n",
        "thing()\n",
        "print('Zip')\n",
        "thing()\n",
        "\n",
        "\n"
      ]
    }
  ]
}