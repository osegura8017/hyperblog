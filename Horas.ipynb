{
  "nbformat": 4,
  "nbformat_minor": 0,
  "metadata": {
    "colab": {
      "provenance": [],
      "authorship_tag": "ABX9TyOeMc5hul3gEXV2/zdlKXNn",
      "include_colab_link": true
    },
    "kernelspec": {
      "name": "python3",
      "display_name": "Python 3"
    },
    "language_info": {
      "name": "python"
    }
  },
  "cells": [
    {
      "cell_type": "markdown",
      "metadata": {
        "id": "view-in-github",
        "colab_type": "text"
      },
      "source": [
        "<a href=\"https://colab.research.google.com/github/osegura8017/hyperblog/blob/master/Horas.ipynb\" target=\"_parent\"><img src=\"https://colab.research.google.com/assets/colab-badge.svg\" alt=\"Open In Colab\"/></a>"
      ]
    },
    {
      "cell_type": "code",
      "execution_count": 2,
      "metadata": {
        "colab": {
          "base_uri": "https://localhost:8080/"
        },
        "id": "0IFtKb1MlxE7",
        "outputId": "29748798-2d07-48f2-d33d-1825f02e3f03"
      },
      "outputs": [
        {
          "output_type": "stream",
          "name": "stdout",
          "text": [
            "Ingrese horas: 45\n",
            "Horas normales: 40\n",
            "Horas extra: 5\n",
            "Pago horas normales: 400\n",
            "Pago horas extra: 75\n",
            "Horas trabajadas: 45\n",
            "Total a pagar: 475\n"
          ]
        }
      ],
      "source": [
        "numh = int(input('Ingrese horas: '))\n",
        "\n",
        "if numh >= 40:\n",
        "    horan = 40 * 10\n",
        "    horaad = numh - 40\n",
        "    thoraad = horaad * 15\n",
        "    total = horan + thoraad\n",
        "\n",
        "    print('Horas normales:', 40)\n",
        "    print('Horas extra:', horaad)\n",
        "    print('Pago horas normales:', horan)\n",
        "    print('Pago horas extra:', thoraad)\n",
        "\n",
        "    total = thoraad + horan\n",
        "    print('Horas trabajadas:', numh)\n",
        "    print('Total a pagar:', total)\n",
        "else:\n",
        "\n",
        "    print('Ingresa horas por favor')"
      ]
    },
    {
      "cell_type": "code",
      "source": [],
      "metadata": {
        "id": "49lLErvimCN7"
      },
      "execution_count": null,
      "outputs": []
    }
  ]
}